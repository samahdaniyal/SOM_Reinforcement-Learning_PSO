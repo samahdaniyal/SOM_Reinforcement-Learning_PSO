{
  "nbformat": 4,
  "nbformat_minor": 0,
  "metadata": {
    "colab": {
      "provenance": []
    },
    "kernelspec": {
      "name": "python3",
      "display_name": "Python 3"
    },
    "language_info": {
      "name": "python"
    }
  },
  "cells": [
    {
      "cell_type": "code",
      "source": [
        "import numpy as np\n",
        "import gymnasium as gym\n",
        "import random\n",
        "import math\n",
        "env = gym.make(\"Taxi-v3\", render_mode=\"human\")\n",
        "# change-able parameters:\n",
        "discount_factor = 0.8\n",
        "delta_threshold = 0.00001\n",
        "epsilon = 1"
      ],
      "metadata": {
        "id": "36jFH_w3LkwY"
      },
      "execution_count": 9,
      "outputs": []
    },
    {
      "cell_type": "code",
      "source": [
        "def value_iteration(env, gamma, epsilon):\n",
        "    \"\"\"\n",
        "    value iteration to find the optimal value function and policy.\n",
        "\n",
        "    Args:\n",
        "        env: The Taxi-v3 environment.\n",
        "        gamma: Discount factor for future rewards.\n",
        "        epsilon: Threshold for convergence - stop when changes are smaller than this.\n",
        "\n",
        "    Returns:\n",
        "        policy: The optimal policy for each state.\n",
        "        V: The optimal value function.\n",
        "    \"\"\"\n",
        "    num_states = env.observation_space.n  #  500 states in Taxi-v3\n",
        "    num_actions = env.action_space.n  # and 6 possible actions\n",
        "\n",
        "    # start with a value function of all zeros\n",
        "    V = np.zeros(num_states)\n",
        "\n",
        "    # keep iterating until value function converges\n",
        "    while True:\n",
        "        delta = 0  # track the biggest change in V to check for convergence\n",
        "        # loop through each state\n",
        "        for s in range(num_states):\n",
        "            v_old = V[s]  # track old value\n",
        "            #compute value for each action in the state\n",
        "            action_values = np.zeros(num_actions)\n",
        "            for a in range(num_actions):\n",
        "                # Get transition probabilities for state-action pair\n",
        "                transitions = env.unwrapped.P[s][a]  # List of (prob, next_state, reward, done)\n",
        "                for prob, next_state, reward, done in transitions:\n",
        "                    # Add the expected value\n",
        "                    action_values[a] += prob * (reward + gamma * V[next_state])\n",
        "            # Update V(s) with the best action's value (Bellman optimality equation)\n",
        "            V[s] = np.max(action_values)\n",
        "            # Update delta to track the biggest change in V\n",
        "            delta = max(delta, abs(v_old - V[s]))\n",
        "\n",
        "        # check if converged - if the biggest change is small enough, then v has converged\n",
        "        if delta < epsilon:\n",
        "            break\n",
        "\n",
        "    # extract optimal policy\n",
        "    policy = np.zeros(num_states, dtype=int)\n",
        "    for s in range(num_states):\n",
        "        # compute the value for each action to find the best one\n",
        "        action_values = np.zeros(num_actions)\n",
        "        for a in range(num_actions):\n",
        "            transitions = env.unwrapped.P[s][a]\n",
        "            for prob, next_state, reward, done in transitions:\n",
        "                action_values[a] += prob * (reward + gamma * V[next_state])\n",
        "        # best action state =the one with the highest value\n",
        "        policy[s] = np.argmax(action_values)\n",
        "\n",
        "    return policy, V"
      ],
      "metadata": {
        "id": "eFVoVyzdJSWz"
      },
      "execution_count": 10,
      "outputs": []
    },
    {
      "cell_type": "code",
      "source": [
        "# Run value iteration\n",
        "policy, V = value_iteration(env, discount_factor, delta_threshold)\n",
        "# resetting the environment and executing the policy\n",
        "state = env.reset()\n",
        "#state = state[0]\n",
        "step = 0\n",
        "done = False\n",
        "state = state[0]\n",
        "max_steps = 100\n",
        "for step in range(max_steps):\n",
        "  # Getting max value against that state, so that we choose that action\n",
        "  action = policy[state]\n",
        "  new_state, reward, done, truncated, info = env.step(action) # information after taking the action\n",
        "  env.render()\n",
        "  if done:\n",
        "    print(\"number of steps taken:\", step)\n",
        "    break\n",
        "  state = new_state\n",
        "env.close()\n"
      ],
      "metadata": {
        "colab": {
          "base_uri": "https://localhost:8080/"
        },
        "id": "PUyC6APQJXXH",
        "outputId": "79743976-6701-42f9-8c03-292f302b7b4f"
      },
      "execution_count": 11,
      "outputs": [
        {
          "output_type": "stream",
          "name": "stdout",
          "text": [
            "number of steps taken: 11\n"
          ]
        }
      ]
    }
  ]
}